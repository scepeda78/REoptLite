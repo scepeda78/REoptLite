{
 "cells": [
  {
   "cell_type": "code",
   "execution_count": 1,
   "metadata": {},
   "outputs": [],
   "source": [
    "using Test\n",
    "using JuMP\n",
    "using SCIP\n",
    "using JSON\n",
    "using REoptLite"
   ]
  },
  {
   "cell_type": "code",
   "execution_count": 3,
   "metadata": {},
   "outputs": [
    {
     "data": {
      "text/latex": "$$ \\begin{alignat*}{1}\\text{feasibility}\\\\\n\\text{Subject to} \\quad\\end{alignat*}\n $$",
      "text/plain": "A JuMP Model\nFeasibility problem with:\nVariables: 0\nModel mode: AUTOMATIC\nCachingOptimizer state: EMPTY_OPTIMIZER\nSolver name: SCIP"
     },
     "execution_count": 3,
     "metadata": {},
     "output_type": "execute_result"
    }
   ],
   "source": [
    "model = Model(optimizer_with_attributes(SCIP.Optimizer,\"display/verblevel\"=>0))\n"
   ]
  },
  {
   "cell_type": "code",
   "execution_count": 4,
   "metadata": {},
   "outputs": [
    {
     "data": {
      "text/plain": "Dict{String, Any} with 7 entries:\n  \"Configuration\"  => Dict{String, Any}(\"hours_per_timestep\"=>Any[62, 62, 62, 6…\n  \"ElectricTariff\" => Dict{String, Any}(\"monthly_demand_rates\"=>Any[0.08, 0.11,…\n  \"Site\"           => Dict{String, Any}(\"latitude\"=>35.2468, \"longitude\"=>-91.7…\n  \"ElectricLoad\"   => Dict{String, Any}(\"annual_kwh\"=>259525.0, \"doe_reference_…\n  \"PV\"             => Dict{String, Any}(\"array_type\"=>1, \"macrs_itc_reduction\"=…\n  \"Storage\"        => Dict{String, Any}(\"max_kw\"=>0.0, \"max_kwh\"=>0.0)\n  \"Financial\"      => Dict{String, Any}(\"owner_discount_pct\"=>0.081, \"owner_tax…"
     },
     "execution_count": 4,
     "metadata": {},
     "output_type": "execute_result"
    }
   ],
   "source": [
    "data = JSON.parsefile(\"./test/scenarios/monthly_rate.json\")\n"
   ]
  },
  {
   "cell_type": "code",
   "execution_count": 14,
   "metadata": {},
   "outputs": [
    {
     "data": {
      "text/plain": "124"
     },
     "execution_count": 14,
     "metadata": {},
     "output_type": "execute_result"
    }
   ],
   "source": [
    "data[\"Configuration\"][\"hours_per_timestep\"][1]*2"
   ]
  }
 ],
 "metadata": {
  "kernelspec": {
   "display_name": "Julia 1.6.0",
   "language": "julia",
   "name": "julia-1.6"
  },
  "language_info": {
   "file_extension": ".jl",
   "mimetype": "application/julia",
   "name": "julia",
   "version": "1.6.0"
  },
  "orig_nbformat": 2
 },
 "nbformat": 4,
 "nbformat_minor": 2
}